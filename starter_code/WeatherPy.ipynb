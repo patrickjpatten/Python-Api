{
 "cells": [
  {
   "cell_type": "markdown",
   "metadata": {},
   "source": [
    "# WeatherPy\n",
    "----\n",
    "\n",
    "#### Note\n",
    "* Instructions have been included for each segment. You do not have to follow them exactly, but they are included to help you think through the steps."
   ]
  },
  {
   "cell_type": "code",
   "execution_count": 2,
   "metadata": {
    "scrolled": true
   },
   "outputs": [],
   "source": [
    "# Dependencies and Setup\n",
    "import matplotlib.pyplot as plt\n",
    "import pandas as pd\n",
    "import numpy as np\n",
    "import requests\n",
    "import time\n",
    "from scipy.stats import linregress\n",
    "from scipy import stats\n",
    "#wasn't included but just in case\n",
    "import json\n",
    "# Import API key\n",
    "from api_keys import weather_api_key\n",
    "\n",
    "# Incorporated citipy to determine city based on latitude and longitude\n",
    "from citipy import citipy\n",
    "\n",
    "# Output File (CSV)\n",
    "output_data_file = \"output_data/cities.csv\"\n",
    "\n",
    "# Range of latitudes and longitudes\n",
    "lat_range = (-90, 90)\n",
    "lng_range = (-180, 180)"
   ]
  },
  {
   "cell_type": "markdown",
   "metadata": {},
   "source": [
    "## Generate Cities List"
   ]
  },
  {
   "cell_type": "code",
   "execution_count": 3,
   "metadata": {},
   "outputs": [
    {
     "data": {
      "text/plain": [
       "614"
      ]
     },
     "execution_count": 3,
     "metadata": {},
     "output_type": "execute_result"
    }
   ],
   "source": [
    "# List for holding lat_lngs and cities\n",
    "lat_lngs = []\n",
    "cities = []\n",
    "\n",
    "# Create a set of random lat and lng combinations\n",
    "lats = np.random.uniform(lat_range[0], lat_range[1], size=1500)\n",
    "lngs = np.random.uniform(lng_range[0], lng_range[1], size=1500)\n",
    "lat_lngs = zip(lats, lngs)\n",
    "\n",
    "# Identify nearest city for each lat, lng combination\n",
    "for lat_lng in lat_lngs:\n",
    "    city = citipy.nearest_city(lat_lng[0], lat_lng[1]).city_name\n",
    "    \n",
    "    # If the city is unique, then add it to a our cities list\n",
    "    if city not in cities:\n",
    "        cities.append(city)\n",
    "\n",
    "# Print the city count to confirm sufficient count\n",
    "len(cities)"
   ]
  },
  {
   "cell_type": "markdown",
   "metadata": {},
   "source": [
    "### Perform API Calls\n",
    "* Perform a weather check on each city using a series of successive API calls.\n",
    "* Include a print log of each city as it'sbeing processed (with the city number and city name).\n"
   ]
  },
  {
   "cell_type": "code",
   "execution_count": 4,
   "metadata": {},
   "outputs": [
    {
     "name": "stdout",
     "output_type": "stream",
     "text": [
      "Looking up cities....\n",
      "I am getting the info for avarua\n",
      "I am getting the info for deputatskiy\n",
      "I am getting the info for mahebourg\n",
      "I am getting the info for palabuhanratu\n",
      "Could not find info for palabuhanratu \n",
      "I am getting the info for saint-philippe\n",
      "I am getting the info for ambilobe\n",
      "I am getting the info for chor\n",
      "I am getting the info for acari\n",
      "I am getting the info for longlac\n",
      "Could not find info for longlac \n",
      "I am getting the info for ambon\n",
      "I am getting the info for bektemir\n",
      "I am getting the info for rikitea\n",
      "I am getting the info for jiddah\n",
      "Could not find info for jiddah \n",
      "I am getting the info for ahipara\n",
      "I am getting the info for punta arenas\n",
      "I am getting the info for kyaikkami\n",
      "I am getting the info for port macquarie\n",
      "I am getting the info for busselton\n",
      "I am getting the info for kavaratti\n",
      "I am getting the info for changping\n",
      "I am getting the info for nizhneyansk\n",
      "Could not find info for nizhneyansk \n",
      "I am getting the info for elko\n",
      "I am getting the info for roald\n",
      "I am getting the info for karratha\n",
      "I am getting the info for flinders\n",
      "I am getting the info for methoni\n",
      "I am getting the info for bredasdorp\n",
      "I am getting the info for ushuaia\n",
      "I am getting the info for thunder bay\n",
      "I am getting the info for east london\n",
      "I am getting the info for cidreira\n",
      "I am getting the info for santo antonio do ica\n",
      "I am getting the info for amderma\n",
      "Could not find info for amderma \n",
      "I am getting the info for kodiak\n",
      "I am getting the info for weston\n",
      "I am getting the info for torbay\n",
      "I am getting the info for cabo san lucas\n",
      "I am getting the info for atar\n",
      "I am getting the info for tawang\n",
      "I am getting the info for karamea\n",
      "Could not find info for karamea \n",
      "I am getting the info for port keats\n",
      "I am getting the info for dikson\n",
      "I am getting the info for puerto ayora\n",
      "I am getting the info for kollumerland\n",
      "Could not find info for kollumerland \n",
      "I am getting the info for tessalit\n",
      "I am getting the info for hilo\n",
      "I am getting the info for skibbereen\n",
      "I am getting the info for arahal\n",
      "I am getting the info for pavlovsk\n",
      "I am getting the info for cape town\n",
      "I am getting the info for new norfolk\n",
      "I am getting the info for acajutla\n",
      "I am getting the info for illoqqortoormiut\n",
      "Could not find info for illoqqortoormiut \n",
      "I am getting the info for george\n",
      "I am getting the info for byron bay\n",
      "I am getting the info for vaini\n",
      "I am getting the info for codrington\n",
      "I am getting the info for hobart\n",
      "I am getting the info for touros\n",
      "I am getting the info for lebu\n",
      "I am getting the info for geraldton\n",
      "I am getting the info for huntingdon\n",
      "I am getting the info for nikolskoye\n",
      "I am getting the info for chuy\n",
      "I am getting the info for port hardy\n",
      "I am getting the info for bluff\n",
      "I am getting the info for soyo\n",
      "I am getting the info for san patricio\n",
      "I am getting the info for butaritari\n",
      "I am getting the info for cerro largo\n",
      "I am getting the info for castro\n",
      "I am getting the info for carnarvon\n",
      "I am getting the info for kruisfontein\n",
      "I am getting the info for klaksvik\n",
      "I am getting the info for comodoro rivadavia\n",
      "I am getting the info for sao filipe\n",
      "I am getting the info for antalaha\n",
      "I am getting the info for tiksi\n",
      "I am getting the info for salta\n",
      "I am getting the info for vaitupu\n",
      "Could not find info for vaitupu \n",
      "I am getting the info for skalistyy\n",
      "Could not find info for skalistyy \n",
      "I am getting the info for tsihombe\n",
      "Could not find info for tsihombe \n",
      "I am getting the info for teguldet\n",
      "I am getting the info for ypsonas\n",
      "I am getting the info for bengkulu\n",
      "I am getting the info for mataura\n",
      "I am getting the info for thompson\n",
      "I am getting the info for tasiilaq\n",
      "I am getting the info for ribeira grande\n",
      "I am getting the info for labuhan\n",
      "I am getting the info for nishihara\n",
      "I am getting the info for boyolangu\n",
      "I am getting the info for ust-kuyga\n",
      "I am getting the info for hithadhoo\n",
      "I am getting the info for cyangugu\n",
      "I am getting the info for atuona\n",
      "I am getting the info for barrow\n",
      "I am getting the info for sanming\n",
      "I am getting the info for georgetown\n",
      "I am getting the info for barabash\n",
      "I am getting the info for chokurdakh\n",
      "I am getting the info for juba\n",
      "I am getting the info for albany\n",
      "I am getting the info for malanje\n",
      "I am getting the info for baikunthpur\n",
      "I am getting the info for wanning\n",
      "I am getting the info for princeton\n",
      "I am getting the info for wageningen\n",
      "I am getting the info for alofi\n",
      "I am getting the info for yellowknife\n",
      "I am getting the info for saleaula\n",
      "Could not find info for saleaula \n",
      "I am getting the info for lompoc\n",
      "I am getting the info for canmore\n",
      "I am getting the info for moranbah\n",
      "I am getting the info for dakoro\n",
      "I am getting the info for hermanus\n",
      "I am getting the info for izhma\n",
      "I am getting the info for faanui\n",
      "I am getting the info for souillac\n",
      "I am getting the info for alice springs\n",
      "I am getting the info for luderitz\n",
      "I am getting the info for qaanaaq\n",
      "I am getting the info for bethel\n",
      "I am getting the info for vila velha\n",
      "I am getting the info for esperance\n",
      "I am getting the info for camacha\n",
      "I am getting the info for qax\n",
      "I am getting the info for along\n",
      "I am getting the info for tumannyy\n",
      "Could not find info for tumannyy \n",
      "I am getting the info for attawapiskat\n",
      "Could not find info for attawapiskat \n",
      "I am getting the info for taoudenni\n",
      "I am getting the info for onega\n",
      "I am getting the info for atasu\n",
      "I am getting the info for pakhni\n",
      "I am getting the info for barentsburg\n",
      "Could not find info for barentsburg \n",
      "I am getting the info for chara\n",
      "I am getting the info for griffith\n",
      "I am getting the info for manavalakurichi\n",
      "I am getting the info for yialos\n",
      "Could not find info for yialos \n",
      "I am getting the info for alice\n",
      "I am getting the info for luknovo\n",
      "I am getting the info for paka\n",
      "I am getting the info for cabedelo\n",
      "I am getting the info for norman wells\n",
      "I am getting the info for wamba\n",
      "I am getting the info for nanortalik\n",
      "I am getting the info for pozo colorado\n",
      "I am getting the info for tidore\n",
      "Could not find info for tidore \n",
      "I am getting the info for cayenne\n",
      "I am getting the info for galesong\n",
      "I am getting the info for taolanaro\n",
      "Could not find info for taolanaro \n",
      "I am getting the info for saskylakh\n",
      "I am getting the info for nayoro\n",
      "I am getting the info for aklavik\n",
      "I am getting the info for port alfred\n",
      "I am getting the info for talcahuano\n",
      "I am getting the info for bokspits\n",
      "Could not find info for bokspits \n",
      "I am getting the info for jamestown\n",
      "I am getting the info for belushya guba\n",
      "Could not find info for belushya guba \n",
      "I am getting the info for aksu\n",
      "I am getting the info for dir\n",
      "I am getting the info for sulecin\n",
      "I am getting the info for bonavista\n",
      "I am getting the info for nabire\n",
      "I am getting the info for bonthe\n",
      "I am getting the info for hobyo\n",
      "I am getting the info for devils lake\n",
      "I am getting the info for mago\n",
      "I am getting the info for bandarbeyla\n",
      "I am getting the info for fairbanks\n",
      "I am getting the info for roma\n",
      "I am getting the info for namibe\n",
      "I am getting the info for tura\n",
      "I am getting the info for vardo\n",
      "I am getting the info for mufumbwe\n",
      "I am getting the info for graaff-reinet\n",
      "I am getting the info for garissa\n",
      "I am getting the info for erenhot\n",
      "I am getting the info for itoman\n",
      "I am getting the info for narsaq\n",
      "I am getting the info for haibowan\n",
      "Could not find info for haibowan \n",
      "I am getting the info for rabaul\n",
      "I am getting the info for tefe\n",
      "I am getting the info for bilibino\n",
      "I am getting the info for manggar\n",
      "I am getting the info for bonfim\n",
      "I am getting the info for udachnyy\n",
      "I am getting the info for kampong cham\n",
      "I am getting the info for wahran\n",
      "Could not find info for wahran \n",
      "I am getting the info for ciudad bolivar\n",
      "I am getting the info for ponta do sol\n",
      "I am getting the info for hervey bay\n",
      "I am getting the info for badvel\n",
      "I am getting the info for constitucion\n",
      "I am getting the info for dingle\n",
      "I am getting the info for cherskiy\n",
      "I am getting the info for arraial do cabo\n",
      "I am getting the info for takoradi\n",
      "I am getting the info for upernavik\n",
      "I am getting the info for itapirapua\n",
      "I am getting the info for tuktoyaktuk\n",
      "I am getting the info for tezu\n",
      "I am getting the info for samarai\n",
      "I am getting the info for aswan\n",
      "I am getting the info for caravelas\n",
      "I am getting the info for bossangoa\n",
      "I am getting the info for juifang\n",
      "Could not find info for juifang \n",
      "I am getting the info for saquena\n",
      "I am getting the info for kaitangata\n",
      "I am getting the info for mount gambier\n"
     ]
    },
    {
     "name": "stdout",
     "output_type": "stream",
     "text": [
      "I am getting the info for kearney\n",
      "I am getting the info for santa maria\n",
      "I am getting the info for yulara\n",
      "I am getting the info for prudy\n",
      "I am getting the info for cravo norte\n",
      "I am getting the info for ancud\n",
      "I am getting the info for boa vista\n",
      "I am getting the info for mana\n",
      "I am getting the info for sumenep\n",
      "I am getting the info for vao\n",
      "I am getting the info for te anau\n",
      "I am getting the info for conde\n",
      "I am getting the info for svetlyy\n",
      "I am getting the info for poronaysk\n",
      "I am getting the info for bambous virieux\n",
      "I am getting the info for aleksandrovskoye\n",
      "I am getting the info for klamath falls\n",
      "I am getting the info for shimoda\n",
      "I am getting the info for marcona\n",
      "Could not find info for marcona \n",
      "I am getting the info for naron\n",
      "I am getting the info for luanda\n",
      "I am getting the info for wanaka\n",
      "I am getting the info for ojinaga\n",
      "I am getting the info for burnie\n",
      "I am getting the info for mount pleasant\n",
      "I am getting the info for kautokeino\n",
      "I am getting the info for voh\n",
      "I am getting the info for slobidka\n",
      "I am getting the info for hamilton\n",
      "I am getting the info for nuevo progreso\n",
      "I am getting the info for kamenskoye\n",
      "Could not find info for kamenskoye \n",
      "I am getting the info for sambava\n",
      "I am getting the info for kavieng\n",
      "I am getting the info for lincoln\n",
      "I am getting the info for falealupo\n",
      "Could not find info for falealupo \n",
      "I am getting the info for mastic beach\n",
      "I am getting the info for anadyr\n",
      "I am getting the info for talnakh\n",
      "I am getting the info for makakilo city\n",
      "I am getting the info for bolungarvik\n",
      "Could not find info for bolungarvik \n",
      "I am getting the info for okitipupa\n",
      "I am getting the info for jampur\n",
      "I am getting the info for tuatapere\n",
      "I am getting the info for mercedes\n",
      "I am getting the info for olafsvik\n",
      "I am getting the info for jaciara\n",
      "I am getting the info for laguna\n",
      "I am getting the info for mar del plata\n",
      "I am getting the info for panevezys\n",
      "I am getting the info for longyearbyen\n",
      "I am getting the info for dali\n",
      "I am getting the info for kewanee\n",
      "I am getting the info for flin flon\n",
      "I am getting the info for sakakah\n",
      "I am getting the info for provideniya\n",
      "I am getting the info for fortuna\n",
      "I am getting the info for halifax\n",
      "I am getting the info for isiro\n",
      "I am getting the info for jumla\n",
      "I am getting the info for pacasmayo\n",
      "I am getting the info for dunn\n",
      "I am getting the info for mizdah\n",
      "I am getting the info for vagay\n",
      "I am getting the info for naze\n",
      "I am getting the info for tagusao\n",
      "I am getting the info for krasnoslobodsk\n",
      "I am getting the info for pisco\n",
      "I am getting the info for gat\n",
      "I am getting the info for half moon bay\n",
      "I am getting the info for el tigre\n",
      "I am getting the info for anchorage\n",
      "I am getting the info for maebaru\n",
      "I am getting the info for otradnoye\n",
      "I am getting the info for nizhnyaya salda\n",
      "I am getting the info for arganil\n",
      "I am getting the info for ucluelet\n",
      "I am getting the info for whitehorse\n",
      "I am getting the info for zhanatas\n",
      "Could not find info for zhanatas \n",
      "I am getting the info for bela\n",
      "I am getting the info for severo-kurilsk\n",
      "I am getting the info for namie\n",
      "I am getting the info for mareeba\n",
      "I am getting the info for gizo\n",
      "I am getting the info for samusu\n",
      "Could not find info for samusu \n",
      "I am getting the info for solnechnyy\n",
      "I am getting the info for komsomolskiy\n",
      "I am getting the info for khatanga\n",
      "I am getting the info for nyurba\n",
      "I am getting the info for miranorte\n",
      "Could not find info for miranorte \n",
      "I am getting the info for mayo\n",
      "I am getting the info for santa lucia\n",
      "I am getting the info for rafraf\n",
      "I am getting the info for isangel\n",
      "I am getting the info for nago\n",
      "I am getting the info for mecca\n",
      "I am getting the info for leningradskiy\n",
      "I am getting the info for tabory\n",
      "I am getting the info for portland\n",
      "I am getting the info for asau\n",
      "I am getting the info for kandrian\n",
      "I am getting the info for baruun-urt\n",
      "I am getting the info for san vicente\n",
      "I am getting the info for warqla\n",
      "Could not find info for warqla \n",
      "I am getting the info for ostrovnoy\n",
      "I am getting the info for tiznit\n",
      "I am getting the info for maroantsetra\n",
      "I am getting the info for dudinka\n",
      "I am getting the info for lodingen\n",
      "I am getting the info for brits\n",
      "I am getting the info for madawaska\n",
      "I am getting the info for golub-dobrzyn\n",
      "I am getting the info for savalou\n",
      "I am getting the info for tamiahua\n",
      "I am getting the info for casalmaggiore\n",
      "I am getting the info for tautira\n",
      "I am getting the info for muisne\n",
      "I am getting the info for dibaya\n",
      "Could not find info for dibaya \n",
      "I am getting the info for penzance\n",
      "I am getting the info for chicama\n",
      "I am getting the info for taksimo\n",
      "I am getting the info for starokorsunskaya\n",
      "I am getting the info for victoria\n",
      "I am getting the info for madison\n",
      "I am getting the info for miraflores\n",
      "I am getting the info for kaili\n",
      "I am getting the info for lagoa\n",
      "I am getting the info for bay roberts\n",
      "I am getting the info for farah\n",
      "I am getting the info for sobolevo\n",
      "I am getting the info for airai\n",
      "I am getting the info for athabasca\n",
      "I am getting the info for izmaylovo\n",
      "I am getting the info for sangmelima\n",
      "I am getting the info for sitka\n",
      "I am getting the info for kangaatsiaq\n",
      "I am getting the info for hasaki\n",
      "I am getting the info for najran\n",
      "I am getting the info for ngukurr\n",
      "Could not find info for ngukurr \n",
      "I am getting the info for ergani\n",
      "I am getting the info for haradok\n",
      "I am getting the info for quatre cocos\n",
      "I am getting the info for ilulissat\n",
      "I am getting the info for hakui\n",
      "I am getting the info for likasi\n",
      "I am getting the info for ondangwa\n",
      "I am getting the info for kegayli\n",
      "Could not find info for kegayli \n",
      "I am getting the info for bom jesus\n",
      "I am getting the info for reutlingen\n",
      "I am getting the info for fevralsk\n",
      "Could not find info for fevralsk \n",
      "I am getting the info for trapani\n",
      "I am getting the info for zarate\n",
      "I am getting the info for kiama\n",
      "I am getting the info for sentyabrskiy\n",
      "Could not find info for sentyabrskiy \n",
      "I am getting the info for yerbogachen\n",
      "I am getting the info for kapaa\n",
      "I am getting the info for imbituba\n",
      "I am getting the info for mizpe ramon\n",
      "Could not find info for mizpe ramon \n",
      "I am getting the info for beloha\n",
      "I am getting the info for rassvet\n",
      "I am getting the info for ajdabiya\n",
      "I am getting the info for north myrtle beach\n",
      "I am getting the info for tucuma\n",
      "I am getting the info for katra\n",
      "I am getting the info for adrar\n",
      "I am getting the info for katsuura\n",
      "I am getting the info for pochutla\n",
      "I am getting the info for coquimbo\n",
      "I am getting the info for mfou\n",
      "I am getting the info for kankaanpaa\n",
      "I am getting the info for clyde river\n",
      "I am getting the info for auki\n",
      "I am getting the info for san nicolas\n",
      "I am getting the info for salinas\n",
      "I am getting the info for basco\n",
      "I am getting the info for acapulco\n",
      "I am getting the info for trinidad\n",
      "I am getting the info for russkaya polyana\n",
      "I am getting the info for bac lieu\n",
      "I am getting the info for bhimunipatnam\n",
      "I am getting the info for bosaso\n",
      "I am getting the info for praya\n",
      "I am getting the info for usinsk\n",
      "I am getting the info for kinkala\n",
      "I am getting the info for gornyy\n",
      "I am getting the info for vuktyl\n",
      "I am getting the info for abu jubayhah\n",
      "Could not find info for abu jubayhah \n",
      "I am getting the info for nguiu\n",
      "Could not find info for nguiu \n",
      "I am getting the info for dogondoutchi\n",
      "I am getting the info for port elizabeth\n",
      "I am getting the info for sironj\n",
      "I am getting the info for henties bay\n",
      "I am getting the info for hailar\n",
      "I am getting the info for leninskoye\n",
      "I am getting the info for grafton\n",
      "I am getting the info for yenagoa\n",
      "I am getting the info for prince rupert\n",
      "I am getting the info for channel-port aux basques\n",
      "I am getting the info for kalmunai\n",
      "I am getting the info for kleck\n",
      "Could not find info for kleck \n",
      "I am getting the info for marzuq\n",
      "I am getting the info for katobu\n",
      "I am getting the info for kamenka\n",
      "I am getting the info for turukhansk\n",
      "I am getting the info for inirida\n",
      "I am getting the info for asyut\n",
      "I am getting the info for russell\n",
      "I am getting the info for iqaluit\n",
      "I am getting the info for aflu\n",
      "Could not find info for aflu \n",
      "I am getting the info for tabiauea\n",
      "Could not find info for tabiauea \n",
      "I am getting the info for tungkang\n",
      "Could not find info for tungkang \n",
      "I am getting the info for biharkeresztes\n",
      "I am getting the info for gejiu\n",
      "I am getting the info for sao joao da barra\n",
      "I am getting the info for kungurtug\n",
      "I am getting the info for maturin\n",
      "I am getting the info for phek\n"
     ]
    },
    {
     "name": "stdout",
     "output_type": "stream",
     "text": [
      "I am getting the info for lata\n",
      "I am getting the info for tarakan\n",
      "I am getting the info for road town\n",
      "I am getting the info for kirakira\n",
      "I am getting the info for mitu\n",
      "I am getting the info for puerto del rosario\n",
      "I am getting the info for tiarei\n",
      "I am getting the info for pundaguitan\n",
      "I am getting the info for valley city\n",
      "I am getting the info for wolow\n",
      "I am getting the info for belyy yar\n",
      "I am getting the info for kushima\n",
      "I am getting the info for aripuana\n",
      "I am getting the info for pitimbu\n",
      "I am getting the info for vila franca do campo\n",
      "I am getting the info for yar-sale\n",
      "I am getting the info for iranshahr\n",
      "I am getting the info for san cristobal\n",
      "I am getting the info for punta cardon\n",
      "I am getting the info for den chai\n",
      "I am getting the info for cascais\n",
      "I am getting the info for sorland\n",
      "I am getting the info for moose factory\n",
      "I am getting the info for coari\n",
      "I am getting the info for wundanyi\n",
      "I am getting the info for lithgow\n",
      "I am getting the info for tralee\n",
      "I am getting the info for nosy varika\n",
      "I am getting the info for changtu\n",
      "I am getting the info for glossop\n",
      "I am getting the info for mount isa\n",
      "I am getting the info for yuzhno-yeniseyskiy\n",
      "Could not find info for yuzhno-yeniseyskiy \n",
      "I am getting the info for raudeberg\n",
      "I am getting the info for yueyang\n",
      "I am getting the info for quelimane\n",
      "I am getting the info for pangody\n",
      "I am getting the info for aljezur\n",
      "I am getting the info for kabalo\n",
      "I am getting the info for tarrafal\n",
      "I am getting the info for vijapur\n",
      "I am getting the info for belaya gora\n",
      "I am getting the info for pahalgam\n",
      "I am getting the info for gornopravdinsk\n",
      "I am getting the info for sangar\n",
      "I am getting the info for wuzhou\n",
      "I am getting the info for kloulklubed\n",
      "I am getting the info for north bend\n",
      "I am getting the info for asmar\n",
      "I am getting the info for nattam\n",
      "I am getting the info for haines junction\n",
      "I am getting the info for palu\n",
      "I am getting the info for balotra\n",
      "I am getting the info for socorro\n",
      "I am getting the info for derzhavinsk\n",
      "I am getting the info for gamba\n",
      "I am getting the info for kiparissia\n",
      "Could not find info for kiparissia \n",
      "I am getting the info for artyk\n",
      "Could not find info for artyk \n",
      "I am getting the info for puerto el triunfo\n",
      "I am getting the info for sanawad\n",
      "I am getting the info for ngunguru\n",
      "I am getting the info for la asuncion\n",
      "I am getting the info for marsh harbour\n",
      "I am getting the info for nuuk\n",
      "I am getting the info for umm kaddadah\n",
      "I am getting the info for asha\n",
      "I am getting the info for tanout\n",
      "I am getting the info for alhama de murcia\n",
      "I am getting the info for kajiado\n",
      "I am getting the info for tynda\n",
      "I am getting the info for saint-joseph\n",
      "I am getting the info for orlea\n",
      "I am getting the info for minador do negrao\n",
      "I am getting the info for zihuatanejo\n",
      "I am getting the info for varnamo\n",
      "I am getting the info for maceio\n",
      "I am getting the info for dinguiraye\n",
      "I am getting the info for pevek\n",
      "I am getting the info for tadine\n",
      "I am getting the info for samalaeulu\n",
      "Could not find info for samalaeulu \n",
      "I am getting the info for bathsheba\n",
      "I am getting the info for sandata\n",
      "I am getting the info for vestmanna\n",
      "I am getting the info for dawlatabad\n",
      "I am getting the info for guerrero negro\n",
      "I am getting the info for berdigestyakh\n",
      "I am getting the info for alta floresta\n",
      "I am getting the info for hofn\n",
      "I am getting the info for munster\n",
      "I am getting the info for hami\n",
      "I am getting the info for simoes\n",
      "I am getting the info for santa marta\n",
      "I am getting the info for qandala\n",
      "I am getting the info for brae\n",
      "I am getting the info for buchanan\n",
      "I am getting the info for lavrentiya\n",
      "I am getting the info for darhan\n",
      "I am getting the info for korla\n",
      "I am getting the info for tomari\n",
      "I am getting the info for chalchihuites\n",
      "I am getting the info for palembang\n",
      "I am getting the info for waingapu\n",
      "I am getting the info for husavik\n",
      "I am getting the info for dolbeau\n",
      "Could not find info for dolbeau \n",
      "I am getting the info for carbonia\n",
      "I am getting the info for znamenskoye\n",
      "I am getting the info for mananjary\n",
      "I am getting the info for yumen\n",
      "I am getting the info for teluknaga\n",
      "I am getting the info for lakes entrance\n",
      "I am getting the info for dakar\n",
      "I am getting the info for kupang\n",
      "I am getting the info for chililabombwe\n",
      "I am getting the info for karauzyak\n",
      "Could not find info for karauzyak \n",
      "I am getting the info for umba\n",
      "I am getting the info for sazonovo\n",
      "I am getting the info for huangzhou\n",
      "I am getting the info for saint anthony\n",
      "I am getting the info for vale da amoreira\n",
      "I am getting the info for suleja\n",
      "I am getting the info for rocha\n",
      "I am getting the info for la ronge\n",
      "I am getting the info for pasni\n",
      "I am getting the info for margate\n",
      "I am getting the info for samaro\n",
      "I am getting the info for benghazi\n",
      "I am getting the info for sibenik\n",
      "I am getting the info for san jose\n",
      "I am getting the info for sibolga\n",
      "I am getting the info for zhangye\n",
      "I am getting the info for auburn\n",
      "I am getting the info for guozhen\n",
      "I am getting the info for eyl\n",
      "I am getting the info for grajau\n",
      "I am getting the info for whithorn\n",
      "I am getting the info for banda aceh\n",
      "I am getting the info for morehead\n",
      "I am getting the info for ust-tsilma\n",
      "I am getting the info for ponta delgada\n",
      "I am getting the info for liuli\n",
      "I am getting the info for corrente\n",
      "I am getting the info for siguiri\n",
      "I am getting the info for bereda\n",
      "I am getting the info for kenai\n",
      "I am getting the info for minsk\n",
      "I am getting the info for sedelnikovo\n",
      "Could not find info for sedelnikovo \n",
      "I am getting the info for carmarthen\n",
      "I am getting the info for iracoubo\n",
      "I am getting the info for steamboat springs\n",
      "I am getting the info for sibu\n",
      "I am getting the info for havoysund\n",
      "I am getting the info for pyapon\n",
      "I am getting the info for lagos\n",
      "I am getting the info for aleksandrov gay\n",
      "I am getting the info for milingimbi\n",
      "Could not find info for milingimbi \n",
      "I am getting the info for ayan\n",
      "I am getting the info for andujar\n",
      "I am getting the info for akdepe\n",
      "I am getting the info for saint george\n",
      "I am getting the info for halalo\n",
      "Could not find info for halalo \n",
      "I am getting the info for mayumba\n",
      "I am getting the info for nantucket\n",
      "I am getting the info for mangan\n",
      "I am getting the info for lyuban\n",
      "I am getting the info for broome\n",
      "I am getting the info for krasnoyarskaya\n",
      "I am getting the info for mahon\n",
      "I am getting the info for tiverton\n",
      "I am getting the info for paradwip\n",
      "Could not find info for paradwip \n",
      "I am getting the info for kytmanovo\n",
      "I am getting the info for tabou\n",
      "I am getting the info for caxito\n",
      "I am getting the info for berlevag\n",
      "I am getting the info for cape coast\n",
      "I am getting the info for lorengau\n",
      "I am getting the info for poum\n",
      "I am getting the info for hay river\n",
      "I am getting the info for lasa\n",
      "I am getting the info for panaba\n",
      "I am getting the info for jujuy\n",
      "Could not find info for jujuy \n",
      "I am getting the info for malindi\n",
      "I am getting the info for turayf\n",
      "I am getting the info for swan hill\n",
      "I am getting the info for la cruz\n",
      "I am getting the info for muswellbrook\n",
      "I am getting the info for necochea\n",
      "I am getting the info for nizhnyaya omka\n",
      "I am getting the info for bargal\n",
      "Could not find info for bargal \n",
      "I am getting the info for avera\n"
     ]
    }
   ],
   "source": [
    "# Save config information\n",
    "url = \"http://api.openweathermap.org/data/2.5/weather?\"\n",
    "#create variables to hold the weather info\n",
    "clouds = []\n",
    "foundcity = []\n",
    "country = []\n",
    "date = []\n",
    "humidity = []\n",
    "lat = []\n",
    "long = []\n",
    "max_temp = []\n",
    "wind_speed = []\n",
    "\n",
    "print(\"Looking up cities....\")\n",
    "# Build query URL\n",
    "for city in cities:\n",
    "    try:        \n",
    "        query_url = url + \"appid=\" + weather_api_key + \"&q=\" + city + \"&units=imperial\"\n",
    "        print(f'I am getting the info for {city}')\n",
    "        weather_response = requests.get(query_url)\n",
    "        weather_json = weather_response.json()\n",
    "# Get the info from the response and build arrays we can dataframe later.\n",
    "        clouds.append(weather_json[\"clouds\"][\"all\"])\n",
    "        country.append(weather_json[\"sys\"][\"country\"])\n",
    "        date.append(weather_json[\"dt\"])\n",
    "        humidity.append(weather_json[\"main\"][\"humidity\"])\n",
    "        lat.append(weather_json[\"coord\"][\"lat\"])\n",
    "        long.append(weather_json[\"coord\"][\"lon\"])\n",
    "        max_temp.append(weather_json[\"main\"][\"temp_max\"])\n",
    "        wind_speed.append(weather_json[\"wind\"][\"speed\"])\n",
    "        foundcity.append(weather_json[\"name\"])\n",
    "    except:\n",
    "        print(f\"Could not find info for {city} \")\n",
    "    continue\n",
    "\n"
   ]
  },
  {
   "cell_type": "code",
   "execution_count": 5,
   "metadata": {},
   "outputs": [
    {
     "data": {
      "text/plain": [
       "City          559\n",
       "Clouds        559\n",
       "Country       559\n",
       "Date          559\n",
       "Humidity      559\n",
       "Lat           559\n",
       "Lng           559\n",
       "Max Temp      559\n",
       "Wind Speed    559\n",
       "dtype: int64"
      ]
     },
     "execution_count": 5,
     "metadata": {},
     "output_type": "execute_result"
    }
   ],
   "source": [
    "# Create a dictonary that we can turn into a DF\n",
    "weatherpy_dict = {\n",
    "    \"City\": foundcity,\n",
    "    \"Clouds\":clouds, \n",
    "    \"Country\":country,\n",
    "    \"Date\":date, \n",
    "    \"Humidity\": humidity,\n",
    "    \"Lat\":lat, \n",
    "    \"Lng\":long, \n",
    "    \"Max Temp\": max_temp,\n",
    "    \"Wind Speed\":wind_speed\n",
    "}\n",
    "# Create a data frame from dictionary\n",
    "weather_data = pd.DataFrame(weatherpy_dict)\n",
    "\n",
    "# Display count of weather data values \n",
    "weather_data.count()        "
   ]
  },
  {
   "cell_type": "markdown",
   "metadata": {},
   "source": [
    "### Convert Raw Data to DataFrame\n",
    "* Export the city data into a .csv.\n",
    "* Display the DataFrame"
   ]
  },
  {
   "cell_type": "code",
   "execution_count": 6,
   "metadata": {},
   "outputs": [
    {
     "data": {
      "text/html": [
       "<div>\n",
       "<style scoped>\n",
       "    .dataframe tbody tr th:only-of-type {\n",
       "        vertical-align: middle;\n",
       "    }\n",
       "\n",
       "    .dataframe tbody tr th {\n",
       "        vertical-align: top;\n",
       "    }\n",
       "\n",
       "    .dataframe thead th {\n",
       "        text-align: right;\n",
       "    }\n",
       "</style>\n",
       "<table border=\"1\" class=\"dataframe\">\n",
       "  <thead>\n",
       "    <tr style=\"text-align: right;\">\n",
       "      <th></th>\n",
       "      <th>City</th>\n",
       "      <th>Clouds</th>\n",
       "      <th>Country</th>\n",
       "      <th>Date</th>\n",
       "      <th>Humidity</th>\n",
       "      <th>Lat</th>\n",
       "      <th>Lng</th>\n",
       "      <th>Max Temp</th>\n",
       "      <th>Wind Speed</th>\n",
       "    </tr>\n",
       "  </thead>\n",
       "  <tbody>\n",
       "    <tr>\n",
       "      <th>0</th>\n",
       "      <td>Avarua</td>\n",
       "      <td>100</td>\n",
       "      <td>CK</td>\n",
       "      <td>1591809884</td>\n",
       "      <td>73</td>\n",
       "      <td>-21.21</td>\n",
       "      <td>-159.78</td>\n",
       "      <td>77.00</td>\n",
       "      <td>11.41</td>\n",
       "    </tr>\n",
       "    <tr>\n",
       "      <th>1</th>\n",
       "      <td>Deputatsky</td>\n",
       "      <td>91</td>\n",
       "      <td>RU</td>\n",
       "      <td>1591809884</td>\n",
       "      <td>82</td>\n",
       "      <td>69.30</td>\n",
       "      <td>139.90</td>\n",
       "      <td>36.43</td>\n",
       "      <td>6.64</td>\n",
       "    </tr>\n",
       "    <tr>\n",
       "      <th>2</th>\n",
       "      <td>Mahébourg</td>\n",
       "      <td>75</td>\n",
       "      <td>MU</td>\n",
       "      <td>1591809884</td>\n",
       "      <td>78</td>\n",
       "      <td>-20.41</td>\n",
       "      <td>57.70</td>\n",
       "      <td>71.60</td>\n",
       "      <td>18.34</td>\n",
       "    </tr>\n",
       "    <tr>\n",
       "      <th>3</th>\n",
       "      <td>Saint-Philippe</td>\n",
       "      <td>20</td>\n",
       "      <td>RE</td>\n",
       "      <td>1591809884</td>\n",
       "      <td>73</td>\n",
       "      <td>-21.36</td>\n",
       "      <td>55.77</td>\n",
       "      <td>71.60</td>\n",
       "      <td>19.46</td>\n",
       "    </tr>\n",
       "    <tr>\n",
       "      <th>4</th>\n",
       "      <td>Ambilobe</td>\n",
       "      <td>0</td>\n",
       "      <td>MG</td>\n",
       "      <td>1591809884</td>\n",
       "      <td>74</td>\n",
       "      <td>-13.20</td>\n",
       "      <td>49.05</td>\n",
       "      <td>70.48</td>\n",
       "      <td>3.80</td>\n",
       "    </tr>\n",
       "  </tbody>\n",
       "</table>\n",
       "</div>"
      ],
      "text/plain": [
       "             City  Clouds Country        Date  Humidity    Lat     Lng  \\\n",
       "0          Avarua     100      CK  1591809884        73 -21.21 -159.78   \n",
       "1      Deputatsky      91      RU  1591809884        82  69.30  139.90   \n",
       "2       Mahébourg      75      MU  1591809884        78 -20.41   57.70   \n",
       "3  Saint-Philippe      20      RE  1591809884        73 -21.36   55.77   \n",
       "4        Ambilobe       0      MG  1591809884        74 -13.20   49.05   \n",
       "\n",
       "   Max Temp  Wind Speed  \n",
       "0     77.00       11.41  \n",
       "1     36.43        6.64  \n",
       "2     71.60       18.34  \n",
       "3     71.60       19.46  \n",
       "4     70.48        3.80  "
      ]
     },
     "execution_count": 6,
     "metadata": {},
     "output_type": "execute_result"
    }
   ],
   "source": [
    "# Save data frame to CSV\n",
    "weather_data.to_csv('../output_data/weather_data.csv')\n",
    "\n",
    "# Display data frame head \n",
    "weather_data.head()\n",
    "\n"
   ]
  },
  {
   "cell_type": "markdown",
   "metadata": {},
   "source": [
    "## Inspect the data and remove the cities where the humidity > 100%.\n",
    "----\n",
    "Skip this step if there are no cities that have humidity > 100%. "
   ]
  },
  {
   "cell_type": "code",
   "execution_count": 7,
   "metadata": {},
   "outputs": [
    {
     "name": "stdout",
     "output_type": "stream",
     "text": [
      "Int64Index([], dtype='int64')\n"
     ]
    },
    {
     "data": {
      "text/html": [
       "<div>\n",
       "<style scoped>\n",
       "    .dataframe tbody tr th:only-of-type {\n",
       "        vertical-align: middle;\n",
       "    }\n",
       "\n",
       "    .dataframe tbody tr th {\n",
       "        vertical-align: top;\n",
       "    }\n",
       "\n",
       "    .dataframe thead th {\n",
       "        text-align: right;\n",
       "    }\n",
       "</style>\n",
       "<table border=\"1\" class=\"dataframe\">\n",
       "  <thead>\n",
       "    <tr style=\"text-align: right;\">\n",
       "      <th></th>\n",
       "      <th>City</th>\n",
       "      <th>Clouds</th>\n",
       "      <th>Country</th>\n",
       "      <th>Date</th>\n",
       "      <th>Humidity</th>\n",
       "      <th>Lat</th>\n",
       "      <th>Lng</th>\n",
       "      <th>Max Temp</th>\n",
       "      <th>Wind Speed</th>\n",
       "    </tr>\n",
       "  </thead>\n",
       "  <tbody>\n",
       "    <tr>\n",
       "      <th>192</th>\n",
       "      <td>Ancud</td>\n",
       "      <td>90</td>\n",
       "      <td>CL</td>\n",
       "      <td>1591809893</td>\n",
       "      <td>100</td>\n",
       "      <td>-41.87</td>\n",
       "      <td>-73.82</td>\n",
       "      <td>54.00</td>\n",
       "      <td>8.05</td>\n",
       "    </tr>\n",
       "    <tr>\n",
       "      <th>378</th>\n",
       "      <td>Gejiu</td>\n",
       "      <td>99</td>\n",
       "      <td>CN</td>\n",
       "      <td>1591809903</td>\n",
       "      <td>100</td>\n",
       "      <td>23.31</td>\n",
       "      <td>103.16</td>\n",
       "      <td>59.86</td>\n",
       "      <td>2.35</td>\n",
       "    </tr>\n",
       "    <tr>\n",
       "      <th>61</th>\n",
       "      <td>Cerro Largo</td>\n",
       "      <td>40</td>\n",
       "      <td>BR</td>\n",
       "      <td>1591809887</td>\n",
       "      <td>100</td>\n",
       "      <td>-28.15</td>\n",
       "      <td>-54.74</td>\n",
       "      <td>72.00</td>\n",
       "      <td>5.82</td>\n",
       "    </tr>\n",
       "    <tr>\n",
       "      <th>132</th>\n",
       "      <td>Galesong</td>\n",
       "      <td>20</td>\n",
       "      <td>ID</td>\n",
       "      <td>1591809890</td>\n",
       "      <td>100</td>\n",
       "      <td>-5.32</td>\n",
       "      <td>119.37</td>\n",
       "      <td>75.20</td>\n",
       "      <td>2.24</td>\n",
       "    </tr>\n",
       "    <tr>\n",
       "      <th>548</th>\n",
       "      <td>Hay River</td>\n",
       "      <td>90</td>\n",
       "      <td>CA</td>\n",
       "      <td>1591809912</td>\n",
       "      <td>100</td>\n",
       "      <td>60.82</td>\n",
       "      <td>-115.80</td>\n",
       "      <td>39.20</td>\n",
       "      <td>6.93</td>\n",
       "    </tr>\n",
       "  </tbody>\n",
       "</table>\n",
       "</div>"
      ],
      "text/plain": [
       "            City  Clouds Country        Date  Humidity    Lat     Lng  \\\n",
       "192        Ancud      90      CL  1591809893       100 -41.87  -73.82   \n",
       "378        Gejiu      99      CN  1591809903       100  23.31  103.16   \n",
       "61   Cerro Largo      40      BR  1591809887       100 -28.15  -54.74   \n",
       "132     Galesong      20      ID  1591809890       100  -5.32  119.37   \n",
       "548    Hay River      90      CA  1591809912       100  60.82 -115.80   \n",
       "\n",
       "     Max Temp  Wind Speed  \n",
       "192     54.00        8.05  \n",
       "378     59.86        2.35  \n",
       "61      72.00        5.82  \n",
       "132     75.20        2.24  \n",
       "548     39.20        6.93  "
      ]
     },
     "execution_count": 7,
     "metadata": {},
     "output_type": "execute_result"
    }
   ],
   "source": [
    "# Get names of indexes for which column humidity has value over 99\n",
    "#  Get the indices of cities that have humidity over 100%.\n",
    "indexNames = weather_data[ weather_data['Humidity'] > 100 ].index\n",
    "print(indexNames)\n",
    "# Delete these row indexes from dataFrame\n",
    "# Make a new DataFrame equal to the city data to drop all humidity outliers by index.\n",
    "# Passing \"inplace=False\" will make a copy of the city_data DataFrame, which we call \"clean_city_data\".\n",
    "lowhumid_df = weather_data.drop(indexNames , inplace=False)\n",
    "lowhumid_df.sort_values(\"Humidity\", axis = 0, ascending = False, inplace = True)\n",
    "lowhumid_df.head()\n",
    "\n"
   ]
  },
  {
   "cell_type": "markdown",
   "metadata": {},
   "source": [
    "## Plotting the Data\n",
    "* Use proper labeling of the plots using plot titles (including date of analysis) and axes labels.\n",
    "* Save the plotted figures as .pngs."
   ]
  },
  {
   "cell_type": "markdown",
   "metadata": {},
   "source": [
    "## Latitude vs. Temperature Plot"
   ]
  },
  {
   "cell_type": "code",
   "execution_count": 8,
   "metadata": {
    "scrolled": true
   },
   "outputs": [
    {
     "data": {
      "text/plain": [
       "Text(0, 0.5, 'Temperature (Farenheit)')"
      ]
     },
     "execution_count": 8,
     "metadata": {},
     "output_type": "execute_result"
    },
    {
     "data": {
      "image/png": "[encoded data removed]",
      "text/plain": [
       "<Figure size 432x288 with 1 Axes>"
      ]
     },
     "metadata": {
      "needs_background": "light"
     },
     "output_type": "display_data"
    }
   ],
   "source": [
    "plt.scatter(lowhumid_df[\"Lat\"], lowhumid_df[\"Max Temp\"], marker=\"o\", facecolors=\"red\", edgecolors=\"black\")\n",
    "plt.title(\"Max Temperature vs Latitude\")\n",
    "plt.xlabel(\"Latitude\")\n",
    "plt.ylabel(\"Temperature (Farenheit)\")"
   ]
  },
  {
   "cell_type": "markdown",
   "metadata": {},
   "source": [
    "## Latitude vs. Humidity Plot"
   ]
  },
  {
   "cell_type": "code",
   "execution_count": 9,
   "metadata": {},
   "outputs": [
    {
     "data": {
      "text/plain": [
       "Text(0, 0.5, 'Humidity')"
      ]
     },
     "execution_count": 9,
     "metadata": {},
     "output_type": "execute_result"
    },
    {
     "data": {
      "image/png": "[encoded data removed]",
      "text/plain": [
       "<Figure size 432x288 with 1 Axes>"
      ]
     },
     "metadata": {
      "needs_background": "light"
     },
     "output_type": "display_data"
    }
   ],
   "source": [
    "plt.scatter(lowhumid_df[\"Lat\"], lowhumid_df[\"Humidity\"], marker=\"o\", facecolors=\"red\", edgecolors=\"black\")\n",
    "plt.title(\"Humidity vs Latitude\")\n",
    "plt.xlabel(\"Latitude\")\n",
    "plt.ylabel(\"Humidity\")"
   ]
  },
  {
   "cell_type": "markdown",
   "metadata": {},
   "source": [
    "## Latitude vs. Cloudiness Plot"
   ]
  },
  {
   "cell_type": "code",
   "execution_count": 10,
   "metadata": {},
   "outputs": [
    {
     "data": {
      "text/plain": [
       "Text(0, 0.5, 'Cloudiness')"
      ]
     },
     "execution_count": 10,
     "metadata": {},
     "output_type": "execute_result"
    },
    {
     "data": {
      "image/png": "[encoded data removed]",
      "text/plain": [
       "<Figure size 432x288 with 1 Axes>"
      ]
     },
     "metadata": {
      "needs_background": "light"
     },
     "output_type": "display_data"
    }
   ],
   "source": [
    "plt.scatter(lowhumid_df[\"Lat\"], lowhumid_df[\"Clouds\"], marker=\"o\", facecolors=\"red\", edgecolors=\"black\")\n",
    "plt.title(\"Cloudiness vs Latitude\")\n",
    "plt.xlabel(\"Latitude\")\n",
    "plt.ylabel(\"Cloudiness\")"
   ]
  },
  {
   "cell_type": "markdown",
   "metadata": {},
   "source": [
    "## Latitude vs. Wind Speed Plot"
   ]
  },
  {
   "cell_type": "code",
   "execution_count": 11,
   "metadata": {},
   "outputs": [
    {
     "data": {
      "text/plain": [
       "Text(0, 0.5, 'Wind Speed')"
      ]
     },
     "execution_count": 11,
     "metadata": {},
     "output_type": "execute_result"
    },
    {
     "data": {
      "image/png": "[encoded data removed]",
      "text/plain": [
       "<Figure size 432x288 with 1 Axes>"
      ]
     },
     "metadata": {
      "needs_background": "light"
     },
     "output_type": "display_data"
    }
   ],
   "source": [
    "plt.scatter(lowhumid_df[\"Lat\"], lowhumid_df[\"Clouds\"], marker=\"o\", facecolors=\"red\", edgecolors=\"black\")\n",
    "plt.title(\"Wind Speed vs Latitude\")\n",
    "plt.xlabel(\"Latitude\")\n",
    "plt.ylabel(\"Wind Speed\")"
   ]
  },
  {
   "cell_type": "markdown",
   "metadata": {},
   "source": [
    "## Linear Regression"
   ]
  },
  {
   "cell_type": "code",
   "execution_count": 12,
   "metadata": {},
   "outputs": [],
   "source": [
    "\n",
    "# OPTIONAL: Create a function to create Linear Regression plots\n"
   ]
  },
  {
   "cell_type": "code",
   "execution_count": 13,
   "metadata": {},
   "outputs": [
    {
     "data": {
      "text/html": [
       "<div>\n",
       "<style scoped>\n",
       "    .dataframe tbody tr th:only-of-type {\n",
       "        vertical-align: middle;\n",
       "    }\n",
       "\n",
       "    .dataframe tbody tr th {\n",
       "        vertical-align: top;\n",
       "    }\n",
       "\n",
       "    .dataframe thead th {\n",
       "        text-align: right;\n",
       "    }\n",
       "</style>\n",
       "<table border=\"1\" class=\"dataframe\">\n",
       "  <thead>\n",
       "    <tr style=\"text-align: right;\">\n",
       "      <th></th>\n",
       "      <th>City</th>\n",
       "      <th>Clouds</th>\n",
       "      <th>Country</th>\n",
       "      <th>Date</th>\n",
       "      <th>Humidity</th>\n",
       "      <th>Lat</th>\n",
       "      <th>Lng</th>\n",
       "      <th>Max Temp</th>\n",
       "      <th>Wind Speed</th>\n",
       "    </tr>\n",
       "  </thead>\n",
       "  <tbody>\n",
       "    <tr>\n",
       "      <th>334</th>\n",
       "      <td>Tucumã</td>\n",
       "      <td>97</td>\n",
       "      <td>BR</td>\n",
       "      <td>1591809900</td>\n",
       "      <td>91</td>\n",
       "      <td>-0.18</td>\n",
       "      <td>-50.05</td>\n",
       "      <td>77.72</td>\n",
       "      <td>5.84</td>\n",
       "    </tr>\n",
       "    <tr>\n",
       "      <th>156</th>\n",
       "      <td>Garissa</td>\n",
       "      <td>85</td>\n",
       "      <td>KE</td>\n",
       "      <td>1591809891</td>\n",
       "      <td>47</td>\n",
       "      <td>-0.45</td>\n",
       "      <td>39.64</td>\n",
       "      <td>81.97</td>\n",
       "      <td>15.90</td>\n",
       "    </tr>\n",
       "    <tr>\n",
       "      <th>82</th>\n",
       "      <td>Hithadhoo</td>\n",
       "      <td>100</td>\n",
       "      <td>MV</td>\n",
       "      <td>1591809888</td>\n",
       "      <td>75</td>\n",
       "      <td>-0.60</td>\n",
       "      <td>73.08</td>\n",
       "      <td>84.06</td>\n",
       "      <td>13.71</td>\n",
       "    </tr>\n",
       "    <tr>\n",
       "      <th>36</th>\n",
       "      <td>Puerto Ayora</td>\n",
       "      <td>40</td>\n",
       "      <td>EC</td>\n",
       "      <td>1591809886</td>\n",
       "      <td>61</td>\n",
       "      <td>-0.74</td>\n",
       "      <td>-90.35</td>\n",
       "      <td>80.60</td>\n",
       "      <td>14.99</td>\n",
       "    </tr>\n",
       "    <tr>\n",
       "      <th>432</th>\n",
       "      <td>Palu</td>\n",
       "      <td>62</td>\n",
       "      <td>ID</td>\n",
       "      <td>1591809906</td>\n",
       "      <td>82</td>\n",
       "      <td>-0.89</td>\n",
       "      <td>119.87</td>\n",
       "      <td>76.62</td>\n",
       "      <td>2.35</td>\n",
       "    </tr>\n",
       "  </tbody>\n",
       "</table>\n",
       "</div>"
      ],
      "text/plain": [
       "             City  Clouds Country        Date  Humidity   Lat     Lng  \\\n",
       "334        Tucumã      97      BR  1591809900        91 -0.18  -50.05   \n",
       "156       Garissa      85      KE  1591809891        47 -0.45   39.64   \n",
       "82      Hithadhoo     100      MV  1591809888        75 -0.60   73.08   \n",
       "36   Puerto Ayora      40      EC  1591809886        61 -0.74  -90.35   \n",
       "432          Palu      62      ID  1591809906        82 -0.89  119.87   \n",
       "\n",
       "     Max Temp  Wind Speed  \n",
       "334     77.72        5.84  \n",
       "156     81.97       15.90  \n",
       "82      84.06       13.71  \n",
       "36      80.60       14.99  \n",
       "432     76.62        2.35  "
      ]
     },
     "execution_count": 13,
     "metadata": {},
     "output_type": "execute_result"
    }
   ],
   "source": [
    "# Create Northern and Southern Hemisphere DataFrames\n",
    "# Get names of indexes for which column latitude is greater than 0 for northern and less than for southern.\n",
    "\n",
    "northern_hem_index = weather_data[ weather_data['Lat'] > 0 ].index\n",
    "\n",
    "southern_hem_index = weather_data[ weather_data['Lat'] < 0 ].index\n",
    "# Delete these row indexes from dataFrame to create a df w/ just southern hemisphere.\n",
    "\n",
    "\n",
    "# Passing \"inplace=False\" will make a copy of the city_data DataFrame, which we call \"southern hemisphere\".\n",
    "southern_hem_df = weather_data.drop(northern_hem_index , inplace=False)\n",
    "northern_hem_df = weather_data.drop(southern_hem_index , inplace=False)\n",
    "\n",
    "southern_hem_df.sort_values(\"Lat\", axis = 0, ascending = False, inplace = True)\n",
    "northern_hem_df.sort_values(\"Lat\", axis = 0, ascending = False, inplace = True)\n",
    "\n",
    "southern_hem_df.head()\n"
   ]
  },
  {
   "cell_type": "markdown",
   "metadata": {},
   "source": [
    "####  Northern Hemisphere - Max Temp vs. Latitude Linear Regression"
   ]
  },
  {
   "cell_type": "code",
   "execution_count": 14,
   "metadata": {},
   "outputs": [
    {
     "data": {
      "image/png": "[encoded data removed]",
      "text/plain": [
       "<Figure size 432x288 with 1 Axes>"
      ]
     },
     "metadata": {
      "needs_background": "light"
     },
     "output_type": "display_data"
    }
   ],
   "source": [
    "# Generate a scatter plot of lat versus max temp\n",
    "northern_lat = northern_hem_df.iloc[:,5]\n",
    "northern_max_temp = northern_hem_df.iloc[:,7]\n",
    "\n",
    "# Perform a linear regression on latitude vs Max temp for the Northern Hemisphere\n",
    "vc_slope, vc_int, vc_r, vc_p, vc_std_err = stats.linregress(northern_lat, northern_max_temp)\n",
    "\n",
    "# Create equation of line to calculate predicted max temp\n",
    "vc_fit = vc_slope * northern_lat + vc_int\n",
    "#create the line equation\n",
    "line_eq = \"y = \" + str(round(vc_slope,2)) + \"x + \" + str(round(vc_int,2)) \n",
    "# Plot the linear model on top of scatter plot \n",
    "plt.scatter(northern_lat,northern_max_temp)\n",
    "plt.plot(northern_lat,vc_fit,\"--\")\n",
    "plt.annotate(line_eq,(6,10),fontsize=15,color=\"red\")\n",
    "plt.xlabel('Latitude')\n",
    "plt.ylabel('Max Temp')\n",
    "plt.show()\n"
   ]
  },
  {
   "cell_type": "markdown",
   "metadata": {},
   "source": [
    "####  Southern Hemisphere - Max Temp vs. Latitude Linear Regression"
   ]
  },
  {
   "cell_type": "code",
   "execution_count": 15,
   "metadata": {},
   "outputs": [
    {
     "data": {
      "image/png": "[encoded data removed]",
      "text/plain": [
       "<Figure size 432x288 with 1 Axes>"
      ]
     },
     "metadata": {
      "needs_background": "light"
     },
     "output_type": "display_data"
    }
   ],
   "source": [
    "# Generate a scatter plot of lat versus max temp\n",
    "southern_lat = southern_hem_df.iloc[:,5]\n",
    "southern_max_temp = southern_hem_df.iloc[:,7]\n",
    "\n",
    "# Perform a linear regression on latitude vs Max temp for the Northern Hemisphere\n",
    "vc_slope, vc_int, vc_r, vc_p, vc_std_err = stats.linregress(southern_lat, southern_max_temp)\n",
    "\n",
    "# Create equation of line to calculate predicted max temp\n",
    "vc_fit = vc_slope * southern_lat + vc_int\n",
    "#create the line equation\n",
    "line_eq = \"y = \" + str(round(vc_slope,2)) + \"x + \" + str(round(vc_int,2)) \n",
    "# Plot the linear model on top of scatter plot \n",
    "plt.scatter(southern_lat,southern_max_temp)\n",
    "plt.plot(southern_lat,vc_fit,\"--\")\n",
    "plt.annotate(line_eq,(6,10),fontsize=15,color=\"red\")\n",
    "plt.xlabel('Latitude')\n",
    "plt.ylabel('Max Temp')\n",
    "plt.show()\n"
   ]
  },
  {
   "cell_type": "markdown",
   "metadata": {},
   "source": [
    "####  Northern Hemisphere - Humidity (%) vs. Latitude Linear Regression"
   ]
  },
  {
   "cell_type": "code",
   "execution_count": 16,
   "metadata": {},
   "outputs": [
    {
     "data": {
      "image/png": "[encoded data removed]",
      "text/plain": [
       "<Figure size 432x288 with 1 Axes>"
      ]
     },
     "metadata": {
      "needs_background": "light"
     },
     "output_type": "display_data"
    }
   ],
   "source": [
    "# Generate a scatter plot of lat versus max temp\n",
    "northern_lat = northern_hem_df.iloc[:,5]\n",
    "northern_humid = northern_hem_df.iloc[:,4]\n",
    "\n",
    "# Perform a linear regression on latitude vs Max temp for the Northern Hemisphere\n",
    "vc_slope, vc_int, vc_r, vc_p, vc_std_err = stats.linregress(northern_lat, northern_humid)\n",
    "\n",
    "# Create equation of line to calculate predicted max temp\n",
    "vc_fit = vc_slope * northern_lat + vc_int\n",
    "#create the line equation\n",
    "line_eq = \"y = \" + str(round(vc_slope,2)) + \"x + \" + str(round(vc_int,2)) \n",
    "# Plot the linear model on top of scatter plot \n",
    "plt.scatter(northern_lat,northern_humid)\n",
    "plt.plot(northern_lat,vc_fit,\"--\")\n",
    "plt.annotate(line_eq,(6,10),fontsize=15,color=\"red\")\n",
    "plt.xlabel('Latitude')\n",
    "plt.ylabel('Humidity')\n",
    "plt.show()"
   ]
  },
  {
   "cell_type": "markdown",
   "metadata": {},
   "source": [
    "####  Southern Hemisphere - Humidity (%) vs. Latitude Linear Regression"
   ]
  },
  {
   "cell_type": "code",
   "execution_count": 17,
   "metadata": {},
   "outputs": [
    {
     "data": {
      "image/png": "[encoded data removed]",
      "text/plain": [
       "<Figure size 432x288 with 1 Axes>"
      ]
     },
     "metadata": {
      "needs_background": "light"
     },
     "output_type": "display_data"
    }
   ],
   "source": [
    "# Generate a scatter plot of lat versus max temp\n",
    "southern_lat = southern_hem_df.iloc[:,5]\n",
    "southern_humid = southern_hem_df.iloc[:,4]\n",
    "\n",
    "# Perform a linear regression on latitude vs Max temp for the Northern Hemisphere\n",
    "vc_slope, vc_int, vc_r, vc_p, vc_std_err = stats.linregress(southern_lat, southern_humid)\n",
    "\n",
    "# Create equation of line to calculate predicted max temp\n",
    "vc_fit = vc_slope * southern_lat + vc_int\n",
    "#create the line equation\n",
    "line_eq = \"y = \" + str(round(vc_slope,2)) + \"x + \" + str(round(vc_int,2)) \n",
    "# Plot the linear model on top of scatter plot \n",
    "plt.scatter(southern_lat,southern_humid)\n",
    "plt.plot(southern_lat,vc_fit,\"--\")\n",
    "plt.annotate(line_eq,(6,10),fontsize=15,color=\"red\")\n",
    "plt.xlabel('Latitude')\n",
    "plt.ylabel('Humidity')\n",
    "plt.show()"
   ]
  },
  {
   "cell_type": "markdown",
   "metadata": {},
   "source": [
    "####  Northern Hemisphere - Cloudiness (%) vs. Latitude Linear Regression"
   ]
  },
  {
   "cell_type": "code",
   "execution_count": 18,
   "metadata": {},
   "outputs": [
    {
     "data": {
      "image/png": "[encoded data removed]",
      "text/plain": [
       "<Figure size 432x288 with 1 Axes>"
      ]
     },
     "metadata": {
      "needs_background": "light"
     },
     "output_type": "display_data"
    }
   ],
   "source": [
    "# Generate a scatter plot of lat versus max temp\n",
    "northern_lat = northern_hem_df.iloc[:,5]\n",
    "northern_cloud = northern_hem_df.iloc[:,1]\n",
    "\n",
    "# Perform a linear regression on latitude vs Max temp for the Northern Hemisphere\n",
    "vc_slope, vc_int, vc_r, vc_p, vc_std_err = stats.linregress(northern_lat, northern_cloud)\n",
    "\n",
    "# Create equation of line to calculate predicted max temp\n",
    "vc_fit = vc_slope * northern_lat + vc_int\n",
    "#create the line equation\n",
    "line_eq = \"y = \" + str(round(vc_slope,2)) + \"x + \" + str(round(vc_int,2)) \n",
    "# Plot the linear model on top of scatter plot \n",
    "plt.scatter(northern_lat,northern_cloud)\n",
    "plt.plot(northern_lat,vc_fit,\"--\")\n",
    "plt.annotate(line_eq,(6,10),fontsize=15,color=\"red\")\n",
    "plt.xlabel('Latitude')\n",
    "plt.ylabel('Clouds %')\n",
    "plt.show()\n"
   ]
  },
  {
   "cell_type": "markdown",
   "metadata": {},
   "source": [
    "####  Southern Hemisphere - Cloudiness (%) vs. Latitude Linear Regression"
   ]
  },
  {
   "cell_type": "code",
   "execution_count": 19,
   "metadata": {},
   "outputs": [
    {
     "data": {
      "image/png": "[encoded data removed]",
      "text/plain": [
       "<Figure size 432x288 with 1 Axes>"
      ]
     },
     "metadata": {
      "needs_background": "light"
     },
     "output_type": "display_data"
    }
   ],
   "source": [
    "# Generate a scatter plot of lat versus max temp\n",
    "southern_lat = southern_hem_df.iloc[:,5]\n",
    "southern_cloud = southern_hem_df.iloc[:,1]\n",
    "\n",
    "# Perform a linear regression on latitude vs Max temp for the Northern Hemisphere\n",
    "vc_slope, vc_int, vc_r, vc_p, vc_std_err = stats.linregress(southern_lat, southern_cloud)\n",
    "\n",
    "# Create equation of line to calculate predicted max temp\n",
    "vc_fit = vc_slope * southern_lat + vc_int\n",
    "#create the line equation\n",
    "line_eq = \"y = \" + str(round(vc_slope,2)) + \"x + \" + str(round(vc_int,2)) \n",
    "# Plot the linear model on top of scatter plot \n",
    "plt.scatter(southern_lat,southern_cloud)\n",
    "plt.plot(southern_lat,vc_fit,\"--\")\n",
    "plt.annotate(line_eq,(6,10),fontsize=15,color=\"red\")\n",
    "plt.xlabel('Latitude')\n",
    "plt.ylabel('Clouds %')\n",
    "plt.show()"
   ]
  },
  {
   "cell_type": "markdown",
   "metadata": {},
   "source": [
    "####  Northern Hemisphere - Wind Speed (mph) vs. Latitude Linear Regression"
   ]
  },
  {
   "cell_type": "code",
   "execution_count": 20,
   "metadata": {},
   "outputs": [
    {
     "data": {
      "image/png": "[encoded data removed]",
      "text/plain": [
       "<Figure size 432x288 with 1 Axes>"
      ]
     },
     "metadata": {
      "needs_background": "light"
     },
     "output_type": "display_data"
    }
   ],
   "source": [
    "# Generate a scatter plot of lat versus max temp\n",
    "northern_lat = northern_hem_df.iloc[:,5]\n",
    "northern_wind = northern_hem_df.iloc[:,8]\n",
    "\n",
    "# Perform a linear regression on latitude vs Max temp for the Northern Hemisphere\n",
    "vc_slope, vc_int, vc_r, vc_p, vc_std_err = stats.linregress(northern_lat, northern_wind)\n",
    "\n",
    "# Create equation of line to calculate predicted max temp\n",
    "vc_fit = vc_slope * northern_lat + vc_int\n",
    "#create the line equation\n",
    "line_eq = \"y = \" + str(round(vc_slope,2)) + \"x + \" + str(round(vc_int,2)) \n",
    "# Plot the linear model on top of scatter plot \n",
    "plt.scatter(northern_lat,northern_wind)\n",
    "plt.plot(northern_lat,vc_fit,\"--\")\n",
    "plt.annotate(line_eq,(6,10),fontsize=15,color=\"red\")\n",
    "plt.xlabel('Latitude')\n",
    "plt.ylabel('Wind Speed')\n",
    "plt.show()"
   ]
  },
  {
   "cell_type": "markdown",
   "metadata": {},
   "source": [
    "####  Southern Hemisphere - Wind Speed (mph) vs. Latitude Linear Regression"
   ]
  },
  {
   "cell_type": "code",
   "execution_count": 21,
   "metadata": {},
   "outputs": [
    {
     "data": {
      "image/png": "[encoded data removed]",
      "text/plain": [
       "<Figure size 432x288 with 1 Axes>"
      ]
     },
     "metadata": {
      "needs_background": "light"
     },
     "output_type": "display_data"
    }
   ],
   "source": [
    "# Generate a scatter plot of lat versus max temp\n",
    "southern_lat = southern_hem_df.iloc[:,5]\n",
    "southern_wind = southern_hem_df.iloc[:,8]\n",
    "\n",
    "# Perform a linear regression on latitude vs Max temp for the Northern Hemisphere\n",
    "vc_slope, vc_int, vc_r, vc_p, vc_std_err = stats.linregress(southern_lat, southern_wind)\n",
    "\n",
    "# Create equation of line to calculate predicted max temp\n",
    "vc_fit = vc_slope * northern_lat + vc_int\n",
    "#create the line equation\n",
    "line_eq = \"y = \" + str(round(vc_slope,2)) + \"x + \" + str(round(vc_int,2)) \n",
    "# Plot the linear model on top of scatter plot \n",
    "plt.scatter(northern_lat,northern_wind)\n",
    "plt.plot(northern_lat,vc_fit,\"--\")\n",
    "plt.annotate(line_eq,(6,10),fontsize=15,color=\"red\")\n",
    "plt.xlabel('Latitude')\n",
    "plt.ylabel('Wind Speed')\n",
    "plt.show()"
   ]
  },
  {
   "cell_type": "code",
   "execution_count": null,
   "metadata": {},
   "outputs": [],
   "source": []
  }
 ],
 "metadata": {
  "anaconda-cloud": {},
  "kernel_info": {
   "name": "python3"
  },
  "kernelspec": {
   "display_name": "Python 3",
   "language": "python",
   "name": "python3"
  },
  "language_info": {
   "codemirror_mode": {
    "name": "ipython",
    "version": 3
   },
   "file_extension": ".py",
   "mimetype": "text/x-python",
   "name": "python",
   "nbconvert_exporter": "python",
   "pygments_lexer": "ipython3",
   "version": "3.6.10"
  },
  "latex_envs": {
   "LaTeX_envs_menu_present": true,
   "autoclose": false,
   "autocomplete": true,
   "bibliofile": "biblio.bib",
   "cite_by": "apalike",
   "current_citInitial": 1,
   "eqLabelWithNumbers": true,
   "eqNumInitial": 1,
   "hotkeys": {
    "equation": "Ctrl-E",
    "itemize": "Ctrl-I"
   },
   "labels_anchors": false,
   "latex_user_defs": false,
   "report_style_numbering": false,
   "user_envs_cfg": false
  },
  "nteract": {
   "version": "0.12.3"
  }
 },
 "nbformat": 4,
 "nbformat_minor": 2
}
